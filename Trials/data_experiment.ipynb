{
 "cells": [
  {
   "cell_type": "code",
   "execution_count": 1,
   "metadata": {},
   "outputs": [],
   "source": [
    "import requests\n",
    "import xml.etree.ElementTree as ET\n",
    "import pandas as pd\n",
    "from tabulate import tabulate "
   ]
  },
  {
   "cell_type": "code",
   "execution_count": 2,
   "metadata": {},
   "outputs": [],
   "source": [
    "def get_uniprot_data(protein_id):\n",
    "    base_url = \"https://www.uniprot.org/uniprot/\"\n",
    "    format_option = \".xml\"\n",
    "    \n",
    "    api_url = base_url + protein_id + format_option\n",
    "    \n",
    "    try:\n",
    "        response = requests.get(api_url)\n",
    "        \n",
    "        if response.status_code == 200:\n",
    "            return response.text\n",
    "        else:\n",
    "            print(f\"Error: Unable to retrieve data. Status code: {response.status_code}\")\n",
    "            return None\n",
    "    except Exception as e:\n",
    "        print(f\"An error occurred: {e}\")\n",
    "        return None"
   ]
  },
  {
   "cell_type": "code",
   "execution_count": 3,
   "metadata": {},
   "outputs": [],
   "source": [
    "def parse_uniprot_xml(xml_string):\n",
    "    root = ET.fromstring(xml_string)\n",
    "\n",
    "    namespaces = {'ns': 'http://uniprot.org/uniprot'}\n",
    "    entries = []\n",
    "    names = []\n",
    "    organisms = []\n",
    "    sequences = []\n",
    "    annotations = []\n",
    "\n",
    "    for entry in root.findall('.//ns:entry', namespaces):\n",
    "        accession = entry.find('ns:accession', namespaces).text\n",
    "        name = entry.find('ns:name', namespaces).text\n",
    "\n",
    "        organism_scientific = entry.find('.//ns:organism/ns:name[@type=\"scientific\"]', namespaces).text\n",
    "        organism_common = entry.find('.//ns:organism/ns:name[@type=\"common\"]', namespaces).text\n",
    "\n",
    "        sequence_elem = entry.find('.//ns:sequence', namespaces)\n",
    "        sequence = sequence_elem.text if sequence_elem is not None else ''\n",
    "        annotation_texts = [annotation.text for annotation in entry.findall('.//ns:comment/ns:text', namespaces)]\n",
    "        \n",
    "        entries.append(accession)\n",
    "        names.append(name)\n",
    "        organisms.append(organism_scientific)\n",
    "        sequences.append(sequence)\n",
    "        annotations.append('; '.join(annotation_texts))\n",
    "\n",
    "    df = pd.DataFrame({'Entry': entries, 'Name': names, 'Organism': organisms, 'Sequence': sequences, 'Annotations': annotations})\n",
    "\n",
    "    return df"
   ]
  },
  {
   "cell_type": "code",
   "execution_count": 4,
   "metadata": {},
   "outputs": [
    {
     "name": "stdout",
     "output_type": "stream",
     "text": [
      "    Entry        Name    Organism  \\\n",
      "0  P12344  AATM_BOVIN  Bos taurus   \n",
      "\n",
      "                                            Sequence  \\\n",
      "0  MALLHSGRFLSGVAAAFHPGLAAAASARASSWWAHVEMGPPDPILG...   \n",
      "\n",
      "                                         Annotations  \n",
      "0  Catalyzes the irreversible transamination of t...  \n"
     ]
    }
   ],
   "source": [
    "protein_id = \"P12344\"\n",
    "protein_data = get_uniprot_data(protein_id)\n",
    "\n",
    "if protein_data:\n",
    "    df = parse_uniprot_xml(protein_data)\n",
    "    \n",
    "    print(df)"
   ]
  },
  {
   "cell_type": "code",
   "execution_count": 6,
   "metadata": {},
   "outputs": [
    {
     "name": "stdout",
     "output_type": "stream",
     "text": [
      "+---------+------------+------------+------------------------------------------------------------------------------------------------------------------------------------------------------------------------------------------------------------------------------------------------------------------------------------------------------------------------------------------------------------------------------------------------------------------------------------------------+---------------------------------------------------------------------------------------------------------------------------------------------------------------------------------------------------------------------------------------------------------------------------------------------------------------------------------------------------------------------------------------------------------------------------------------------------------------------------------------------------------------------------------------------------------------------------+\n",
      "| Entry   | Name       | Organism   | Sequence                                                                                                                                                                                                                                                                                                                                                                                                                                       | Annotations                                                                                                                                                                                                                                                                                                                                                                                                                                                                                                                                                               |\n",
      "+=========+============+============+================================================================================================================================================================================================================================================================================================================================================================================================================================================+===========================================================================================================================================================================================================================================================================================================================================================================================================================================================================================================================================================================+\n",
      "| P12344  | AATM_BOVIN | Bos taurus | MALLHSGRFLSGVAAAFHPGLAAAASARASSWWAHVEMGPPDPILGVTEAFKRDTNSKKMNLGVGAYRDDNGKPYVLPSVRKAEAQIAAKNLDKEYLPIAGLAEFCKASAELALGENNEVLKSGRYVTVQTISGTGALRIGASFLQRFFKFSRDVFLPKPTWGNHTPIFRDAGMQLQSYRYYDPKTCGFDFTGAIEDISKIPAQSVILLHACAHNPTGVDPRPEQWKEMATVVKKNNLFAFFDMAYQGFASGDGNKDAWAVRHFIEQGINVCLCQSYAKNMGLYGERVGAFTVVCKDAEEAKRVESQLKILIRPMYSNPPINGARIASTILTSPDLRKQWLHEVKGMADRIISMRTQLVSNLKKEGSSHNWQHIIDQIGMFCYTGLKPEQVERLTKEFSIYMTKDGRISVAGVTSGNVAYLAHAIHQVTK | Catalyzes the irreversible transamination of the L-tryptophan metabolite L-kynurenine to form kynurenic acid (KA). As a member of the malate-aspartate shuttle, it has a key role in the intracellular NAD(H) redox balance. Is important for metabolite exchange between mitochondria and cytosol, and for amino acid metabolism. Facilitates cellular uptake of long-chain free fatty acids.; Homodimer.; In eukaryotes there are cytoplasmic, mitochondrial and chloroplastic isozymes.; Belongs to the class-I pyridoxal-phosphate-dependent aminotransferase family. |\n",
      "+---------+------------+------------+------------------------------------------------------------------------------------------------------------------------------------------------------------------------------------------------------------------------------------------------------------------------------------------------------------------------------------------------------------------------------------------------------------------------------------------------+---------------------------------------------------------------------------------------------------------------------------------------------------------------------------------------------------------------------------------------------------------------------------------------------------------------------------------------------------------------------------------------------------------------------------------------------------------------------------------------------------------------------------------------------------------------------------+\n"
     ]
    }
   ],
   "source": [
    "table = tabulate(df, headers='keys', tablefmt='grid', showindex=False, maxcolwidths=[10, 10])\n",
    "print(table)"
   ]
  }
 ],
 "metadata": {
  "kernelspec": {
   "display_name": "protein_prediction",
   "language": "python",
   "name": "python3"
  },
  "language_info": {
   "codemirror_mode": {
    "name": "ipython",
    "version": 3
   },
   "file_extension": ".py",
   "mimetype": "text/x-python",
   "name": "python",
   "nbconvert_exporter": "python",
   "pygments_lexer": "ipython3",
   "version": "3.11.3"
  }
 },
 "nbformat": 4,
 "nbformat_minor": 2
}
