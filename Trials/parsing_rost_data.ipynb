{
 "cells": [
  {
   "cell_type": "code",
   "execution_count": 5,
   "metadata": {},
   "outputs": [],
   "source": [
    "import requests\n",
    "import csv\n",
    "import pandas as pd\n",
    "import ast "
   ]
  },
  {
   "cell_type": "code",
   "execution_count": 2,
   "metadata": {},
   "outputs": [],
   "source": [
    "\n",
    "url = \"https://rostlab.org/~erckert/localization_PP2_WS23/annotations.txt\"\n",
    "\n",
    "response = requests.get(url)\n",
    "data = response.text"
   ]
  },
  {
   "cell_type": "code",
   "execution_count": 8,
   "metadata": {},
   "outputs": [
    {
     "name": "stdout",
     "output_type": "stream",
     "text": [
      "Data has been saved to annotations.txt\n"
     ]
    }
   ],
   "source": [
    "local_file_path = 'annotations.txt'\n",
    "with open(local_file_path, 'w', encoding='utf-8') as file:\n",
    "    file.write(data)\n",
    "\n",
    "print(f\"Data has been saved to {local_file_path}\")"
   ]
  },
  {
   "cell_type": "code",
   "execution_count": 9,
   "metadata": {},
   "outputs": [
    {
     "name": "stdout",
     "output_type": "stream",
     "text": [
      "Darkness bins data has been saved to darkness_bins.csv\n",
      "Localization data has been saved to localization.csv\n"
     ]
    }
   ],
   "source": [
    "\n",
    "def parse_annotations(data):\n",
    "    darkness_bins_table = []\n",
    "    localization_table = []\n",
    "    \n",
    "    lines = data.split('\\n')\n",
    "    \n",
    "    for line in lines:\n",
    "        if line.startswith('#') or not line.strip():\n",
    "            continue  \n",
    "\n",
    "        parts = line.split(':')\n",
    "        uniprot_id = parts[0].strip()\n",
    "        rest = ':'.join(parts[1:]).strip()\n",
    "\n",
    "        if \"'localization':\" in rest:\n",
    "            entry_dict = ast.literal_eval(rest)\n",
    "\n",
    "            if 'darkness_bins' in entry_dict:\n",
    "                darkness_bins_str = entry_dict['darkness_bins']\n",
    "                \n",
    "                try:\n",
    "                    lower_bin, upper_bin = map(float, darkness_bins_str.strip('()[]').split(','))\n",
    "                    darkness_bins_table.append({\n",
    "                        'UniprotID': uniprot_id,\n",
    "                        'Lower_Darkness_Bin': lower_bin,\n",
    "                        'Upper_Darkness_Bin': upper_bin\n",
    "                    })\n",
    "                except ValueError:\n",
    "                    print(f\"Skipping entry for {uniprot_id} due to invalid darkness_bins format.\")\n",
    "\n",
    "            if 'localization' in entry_dict and entry_dict['localization']:\n",
    "                for loc, evidence_code in entry_dict['localization'].items():\n",
    "                    localization_table.append({\n",
    "                        'UniprotID': uniprot_id,\n",
    "                        'Localization': loc,\n",
    "                        'Localization_Evidence_Code': evidence_code\n",
    "                    })\n",
    "\n",
    "    return darkness_bins_table, localization_table\n",
    "\n",
    "darkness_bins_table, localization_table = parse_annotations(data)\n",
    "\n",
    "darkness_bins_df = pd.DataFrame(darkness_bins_table)\n",
    "localization_df = pd.DataFrame(localization_table)\n",
    "\n",
    "darkness_bins_csv_file_path = 'parsed_data/darkness_bins.csv'\n",
    "localization_csv_file_path = 'parsed_data/localization.csv'\n",
    "\n",
    "darkness_bins_df.to_csv(darkness_bins_csv_file_path, index=False)\n",
    "localization_df.to_csv(localization_csv_file_path, index=False)\n",
    "\n",
    "print(f\"Darkness bins data has been saved to {darkness_bins_csv_file_path}\")\n",
    "print(f\"Localization data has been saved to {localization_csv_file_path}\")\n"
   ]
  }
 ],
 "metadata": {
  "kernelspec": {
   "display_name": "protein_prediction",
   "language": "python",
   "name": "python3"
  },
  "language_info": {
   "codemirror_mode": {
    "name": "ipython",
    "version": 3
   },
   "file_extension": ".py",
   "mimetype": "text/x-python",
   "name": "python",
   "nbconvert_exporter": "python",
   "pygments_lexer": "ipython3",
   "version": "3.11.3"
  }
 },
 "nbformat": 4,
 "nbformat_minor": 2
}
