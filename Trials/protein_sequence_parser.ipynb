{
 "cells": [
  {
   "cell_type": "code",
   "execution_count": 1,
   "metadata": {},
   "outputs": [],
   "source": [
    "from Bio import SeqIO\n",
    "import csv\n"
   ]
  },
  {
   "cell_type": "code",
   "execution_count": 3,
   "metadata": {},
   "outputs": [
    {
     "name": "stdout",
     "output_type": "stream",
     "text": [
      "CSV file 'parsed_data/protein_sequences.csv' has been created.\n"
     ]
    }
   ],
   "source": [
    "fasta_file = \"/Volumes/DURA-DATA/AFDBv4_90.fasta\"\n",
    "csv_file = \"parsed_data/protein_sequences.csv\"\n",
    "\n",
    "with open(csv_file, 'w', newline='') as csvfile:\n",
    "    fieldnames = ['UniprotID', 'Protein_sequence']\n",
    "    writer = csv.DictWriter(csvfile, fieldnames=fieldnames)\n",
    "    \n",
    "    # Write CSV header\n",
    "    writer.writeheader()\n",
    "\n",
    "    # Parse FASTA file and write to CSV\n",
    "    for record in SeqIO.parse(fasta_file, \"fasta\"):\n",
    "        uniprot_id = record.id\n",
    "        protein_sequence = str(record.seq)\n",
    "        writer.writerow({'UniprotID': uniprot_id, 'Protein_sequence': protein_sequence})\n",
    "\n",
    "print(f\"CSV file '{csv_file}' has been created.\")"
   ]
  }
 ],
 "metadata": {
  "kernelspec": {
   "display_name": "protein_prediction",
   "language": "python",
   "name": "python3"
  },
  "language_info": {
   "codemirror_mode": {
    "name": "ipython",
    "version": 3
   },
   "file_extension": ".py",
   "mimetype": "text/x-python",
   "name": "python",
   "nbconvert_exporter": "python",
   "pygments_lexer": "ipython3",
   "version": "3.11.3"
  }
 },
 "nbformat": 4,
 "nbformat_minor": 2
}
