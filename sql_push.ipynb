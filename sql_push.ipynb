{
 "cells": [
  {
   "cell_type": "code",
   "execution_count": 2,
   "metadata": {},
   "outputs": [],
   "source": [
    "import sqlite3\n",
    "import pandas as pd"
   ]
  },
  {
   "cell_type": "code",
   "execution_count": 2,
   "metadata": {},
   "outputs": [
    {
     "name": "stdout",
     "output_type": "stream",
     "text": [
      "SQLite database 'Trials/parsed_data/my_database.db' has been created with tables.\n"
     ]
    }
   ],
   "source": [
    "# List of CSV files\n",
    "csv_files = [\n",
    "    \"Trials/parsed_data/darkness_bins.csv\",\n",
    "    \"Trials/parsed_data/localization.csv\",\n",
    "    \"Trials/parsed_data/luminecance_annotations.csv\",\n",
    "    \"Trials/parsed_data/protein_sequences.csv\"\n",
    "]\n",
    "\n",
    "# SQLite database file\n",
    "database_file = \"Trials/parsed_data/my_database.db\"\n",
    "\n",
    "# Create SQLite database and cursor\n",
    "conn = sqlite3.connect(database_file)\n",
    "cursor = conn.cursor()\n",
    "\n",
    "# Function to create a table in the database\n",
    "def create_table(table_name, df):\n",
    "    df.to_sql(table_name, conn, index=False, if_exists=\"replace\")\n",
    "\n",
    "# Loop through CSV files and create tables\n",
    "for csv_file in csv_files:\n",
    "    table_name = csv_file.split(\"/\")[-1].split(\".\")[0]\n",
    "    df = pd.read_csv(csv_file)\n",
    "    create_table(table_name, df)\n",
    "\n",
    "# Commit changes and close the connection\n",
    "conn.commit()\n",
    "conn.close()\n",
    "\n",
    "print(f\"SQLite database '{database_file}' has been created with tables.\")\n"
   ]
  },
  {
   "cell_type": "code",
   "execution_count": 3,
   "metadata": {},
   "outputs": [
    {
     "name": "stdout",
     "output_type": "stream",
     "text": [
      "Tables merged and saved as 'merged' in the SQLite database.\n"
     ]
    }
   ],
   "source": [
    "\n",
    "database_file = \"Trials/parsed_data/my_database.db\"\n",
    "\n",
    "conn = sqlite3.connect(database_file)\n",
    "cursor = conn.cursor()\n",
    "\n",
    "cursor.execute(\"DROP TABLE IF EXISTS merged;\")\n",
    "\n",
    "create_table_query = '''\n",
    "CREATE TABLE merged AS\n",
    "SELECT localization.*, darkness_bins.*, luminecance_annotations.*, protein_sequences.*\n",
    "FROM localization\n",
    "LEFT JOIN darkness_bins ON localization.UniprotID = darkness_bins.UniprotID\n",
    "LEFT JOIN luminecance_annotations ON localization.UniprotID = luminecance_annotations.UniprotID\n",
    "LEFT JOIN protein_sequences ON localization.UniprotID = protein_sequences.UniprotID;\n",
    "'''\n",
    "\n",
    "cursor.execute(create_table_query)\n",
    "\n",
    "conn.commit()\n",
    "conn.close()\n",
    "\n",
    "print(\"Tables merged and saved as 'merged' in the SQLite database.\")\n"
   ]
  },
  {
   "cell_type": "markdown",
   "metadata": {},
   "source": []
  }
 ],
 "metadata": {
  "kernelspec": {
   "display_name": "protein_prediction",
   "language": "python",
   "name": "python3"
  },
  "language_info": {
   "codemirror_mode": {
    "name": "ipython",
    "version": 3
   },
   "file_extension": ".py",
   "mimetype": "text/x-python",
   "name": "python",
   "nbconvert_exporter": "python",
   "pygments_lexer": "ipython3",
   "version": "3.11.3"
  }
 },
 "nbformat": 4,
 "nbformat_minor": 2
}
